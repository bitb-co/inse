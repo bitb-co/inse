{
  "nbformat": 4,
  "nbformat_minor": 0,
  "metadata": {
    "colab": {
      "name": "Readme.md",
      "provenance": [],
      "collapsed_sections": [],
      "authorship_tag": "ABX9TyNUmALeuS1H4VIJpNpiEYSK",
      "include_colab_link": true
    },
    "kernelspec": {
      "name": "python3",
      "display_name": "Python 3"
    }
  },
  "cells": [
    {
      "cell_type": "markdown",
      "metadata": {
        "id": "view-in-github",
        "colab_type": "text"
      },
      "source": [
        "<a href=\"https://colab.research.google.com/github/bitb-co/inse/blob/master/Readme_md.ipynb\" target=\"_parent\"><img src=\"https://colab.research.google.com/assets/colab-badge.svg\" alt=\"Open In Colab\"/></a>"
      ]
    },
    {
      "cell_type": "markdown",
      "metadata": {
        "id": "XXWa66DsfhGs",
        "colab_type": "text"
      },
      "source": [
        "#인공지능 사관학교 프리코스 과제\n",
        "##1주차 과제(2020.05.25)"
      ]
    }
  ]
}